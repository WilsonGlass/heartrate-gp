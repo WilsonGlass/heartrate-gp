{
 "cells": [
  {
   "cell_type": "code",
   "execution_count": 1,
   "metadata": {},
   "outputs": [],
   "source": [
    "import math\n",
    "import torch\n",
    "import gpytorch\n",
    "from matplotlib import pyplot as plt\n",
    "\n",
    "%matplotlib inline\n",
    "%load_ext autoreload\n",
    "%autoreload 2"
   ]
  },
  {
   "cell_type": "code",
   "execution_count": 2,
   "metadata": {},
   "outputs": [],
   "source": [
    "# Training data is 100 points in [0,1] inclusive regularly spaced\n",
    "train_x = torch.linspace(0, 1, 100)\n",
    "# True function is sin(2*pi*x) with Gaussian noise\n",
    "train_y = torch.sin(train_x * (2 * math.pi)) + torch.randn(train_x.size()) * math.sqrt(0.04)"
   ]
  },
  {
   "cell_type": "code",
   "execution_count": 3,
   "metadata": {},
   "outputs": [],
   "source": [
    "class ExactGPModel(gpytorch.models.ExactGP):\n",
    "    def __init__(self, train_x, train_y, likelihood):\n",
    "        super(ExactGPModel, self).__init__(train_x, train_y, likelihood)\n",
    "        self.mean_module = gpytorch.means.ConstantMean()\n",
    "        self.covar_module = gpytorch.kernels.ScaleKernel(gpytorch.kernels.RBFKernel())\n",
    "\n",
    "    def forward(self, x):\n",
    "        mean_x = self.mean_module(x)\n",
    "        covar_x = self.covar_module(x)\n",
    "        return gpytorch.distributions.MultivariateNormal(mean_x, covar_x)\n",
    "\n",
    "# initialize likelihood and model\n",
    "likelihood = gpytorch.likelihoods.GaussianLikelihood()\n",
    "model = ExactGPModel(train_x, train_y, likelihood)"
   ]
  },
  {
   "cell_type": "code",
   "execution_count": 4,
   "metadata": {},
   "outputs": [
    {
     "name": "stdout",
     "output_type": "stream",
     "text": [
      "Iter 1/50 - Loss: 0.915   lengthscale: 0.693   noise: 0.693\n",
      "Iter 2/50 - Loss: 0.883   lengthscale: 0.644   noise: 0.644\n",
      "Iter 3/50 - Loss: 0.849   lengthscale: 0.598   noise: 0.598\n",
      "Iter 4/50 - Loss: 0.811   lengthscale: 0.555   noise: 0.554\n",
      "Iter 5/50 - Loss: 0.770   lengthscale: 0.514   noise: 0.513\n",
      "Iter 6/50 - Loss: 0.724   lengthscale: 0.475   noise: 0.474\n",
      "Iter 7/50 - Loss: 0.676   lengthscale: 0.439   noise: 0.437\n",
      "Iter 8/50 - Loss: 0.627   lengthscale: 0.404   noise: 0.402\n",
      "Iter 9/50 - Loss: 0.580   lengthscale: 0.371   noise: 0.370\n",
      "Iter 10/50 - Loss: 0.538   lengthscale: 0.342   noise: 0.339\n",
      "Iter 11/50 - Loss: 0.498   lengthscale: 0.315   noise: 0.311\n",
      "Iter 12/50 - Loss: 0.462   lengthscale: 0.293   noise: 0.284\n",
      "Iter 13/50 - Loss: 0.427   lengthscale: 0.274   noise: 0.260\n",
      "Iter 14/50 - Loss: 0.392   lengthscale: 0.259   noise: 0.237\n",
      "Iter 15/50 - Loss: 0.358   lengthscale: 0.247   noise: 0.216\n",
      "Iter 16/50 - Loss: 0.324   lengthscale: 0.238   noise: 0.197\n",
      "Iter 17/50 - Loss: 0.290   lengthscale: 0.231   noise: 0.179\n",
      "Iter 18/50 - Loss: 0.256   lengthscale: 0.227   noise: 0.163\n",
      "Iter 19/50 - Loss: 0.222   lengthscale: 0.225   noise: 0.148\n",
      "Iter 20/50 - Loss: 0.189   lengthscale: 0.225   noise: 0.135\n",
      "Iter 21/50 - Loss: 0.156   lengthscale: 0.226   noise: 0.123\n",
      "Iter 22/50 - Loss: 0.124   lengthscale: 0.229   noise: 0.111\n",
      "Iter 23/50 - Loss: 0.094   lengthscale: 0.234   noise: 0.101\n",
      "Iter 24/50 - Loss: 0.065   lengthscale: 0.239   noise: 0.092\n",
      "Iter 25/50 - Loss: 0.037   lengthscale: 0.246   noise: 0.084\n",
      "Iter 26/50 - Loss: 0.012   lengthscale: 0.253   noise: 0.076\n",
      "Iter 27/50 - Loss: -0.010   lengthscale: 0.262   noise: 0.070\n",
      "Iter 28/50 - Loss: -0.030   lengthscale: 0.271   noise: 0.064\n",
      "Iter 29/50 - Loss: -0.047   lengthscale: 0.280   noise: 0.058\n",
      "Iter 30/50 - Loss: -0.061   lengthscale: 0.289   noise: 0.054\n",
      "Iter 31/50 - Loss: -0.072   lengthscale: 0.297   noise: 0.049\n",
      "Iter 32/50 - Loss: -0.079   lengthscale: 0.304   noise: 0.046\n",
      "Iter 33/50 - Loss: -0.084   lengthscale: 0.310   noise: 0.042\n",
      "Iter 34/50 - Loss: -0.086   lengthscale: 0.315   noise: 0.040\n",
      "Iter 35/50 - Loss: -0.086   lengthscale: 0.317   noise: 0.037\n",
      "Iter 36/50 - Loss: -0.085   lengthscale: 0.317   noise: 0.035\n",
      "Iter 37/50 - Loss: -0.083   lengthscale: 0.316   noise: 0.033\n",
      "Iter 38/50 - Loss: -0.081   lengthscale: 0.313   noise: 0.032\n",
      "Iter 39/50 - Loss: -0.078   lengthscale: 0.308   noise: 0.030\n",
      "Iter 40/50 - Loss: -0.075   lengthscale: 0.303   noise: 0.029\n",
      "Iter 41/50 - Loss: -0.072   lengthscale: 0.298   noise: 0.029\n",
      "Iter 42/50 - Loss: -0.070   lengthscale: 0.292   noise: 0.028\n",
      "Iter 43/50 - Loss: -0.069   lengthscale: 0.287   noise: 0.028\n",
      "Iter 44/50 - Loss: -0.068   lengthscale: 0.283   noise: 0.028\n",
      "Iter 45/50 - Loss: -0.069   lengthscale: 0.280   noise: 0.028\n",
      "Iter 46/50 - Loss: -0.070   lengthscale: 0.278   noise: 0.028\n",
      "Iter 47/50 - Loss: -0.072   lengthscale: 0.277   noise: 0.029\n",
      "Iter 48/50 - Loss: -0.074   lengthscale: 0.276   noise: 0.029\n",
      "Iter 49/50 - Loss: -0.076   lengthscale: 0.277   noise: 0.030\n",
      "Iter 50/50 - Loss: -0.079   lengthscale: 0.279   noise: 0.031\n"
     ]
    }
   ],
   "source": [
    "# this is for running the notebook in our testing framework\n",
    "import os\n",
    "smoke_test = ('CI' in os.environ)\n",
    "training_iter = 2 if smoke_test else 50\n",
    "\n",
    "\n",
    "# Find optimal model hyperparameters\n",
    "model.train()\n",
    "likelihood.train()\n",
    "\n",
    "# Use the adam optimizer\n",
    "optimizer = torch.optim.Adam(model.parameters(), lr=0.1)  # Includes GaussianLikelihood parameters\n",
    "\n",
    "# \"Loss\" for GPs - the marginal log likelihood\n",
    "mll = gpytorch.mlls.ExactMarginalLogLikelihood(likelihood, model)\n",
    "\n",
    "for i in range(training_iter):\n",
    "    # Zero gradients from previous iteration\n",
    "    optimizer.zero_grad()\n",
    "    # Output from model\n",
    "    output = model(train_x)\n",
    "    # Calc loss and backprop gradients\n",
    "    loss = -mll(output, train_y)\n",
    "    loss.backward()\n",
    "    print('Iter %d/%d - Loss: %.3f   lengthscale: %.3f   noise: %.3f' % (\n",
    "        i + 1, training_iter, loss.item(),\n",
    "        model.covar_module.base_kernel.lengthscale.item(),\n",
    "        model.likelihood.noise.item()\n",
    "    ))\n",
    "    optimizer.step()"
   ]
  },
  {
   "cell_type": "code",
   "execution_count": 5,
   "metadata": {},
   "outputs": [],
   "source": [
    "# Get into evaluation (predictive posterior) mode\n",
    "model.eval()\n",
    "likelihood.eval()\n",
    "\n",
    "# Test points are regularly spaced along [0,1]\n",
    "# Make predictions by feeding model through likelihood\n",
    "with torch.no_grad(), gpytorch.settings.fast_pred_var():\n",
    "    test_x = torch.linspace(0, 1, 51)\n",
    "    observed_pred = likelihood(model(test_x))"
   ]
  },
  {
   "cell_type": "code",
   "execution_count": 6,
   "metadata": {},
   "outputs": [
    {
     "ename": "",
     "evalue": "",
     "output_type": "error",
     "traceback": [
      "\u001b[1;31mThe Kernel crashed while executing code in the the current cell or a previous cell. Please review the code in the cell(s) to identify a possible cause of the failure. Click <a href='https://aka.ms/vscodeJupyterKernelCrash'>here</a> for more info. View Jupyter <a href='command:jupyter.viewOutput'>log</a> for further details."
     ]
    }
   ],
   "source": [
    "with torch.no_grad():\n",
    "    # Initialize plot\n",
    "    f, ax = plt.subplots(1, 1, figsize=(4, 3))\n",
    "\n",
    "    # Get upper and lower confidence bounds\n",
    "    lower, upper = observed_pred.confidence_region()\n",
    "    # Plot training data as black stars\n",
    "    ax.plot(train_x.numpy(), train_y.numpy(), 'k*')\n",
    "    # Plot predictive means as blue line\n",
    "    ax.plot(test_x.numpy(), observed_pred.mean.numpy(), 'b')\n",
    "    # Shade between the lower and upper confidence bounds\n",
    "    ax.fill_between(test_x.numpy(), lower.numpy(), upper.numpy(), alpha=0.5)\n",
    "    ax.set_ylim([-3, 3])\n",
    "    ax.legend(['Observed Data', 'Mean', 'Confidence'])"
   ]
  }
 ],
 "metadata": {
  "kernelspec": {
   "display_name": "env",
   "language": "python",
   "name": "python3"
  },
  "language_info": {
   "codemirror_mode": {
    "name": "ipython",
    "version": 3
   },
   "file_extension": ".py",
   "mimetype": "text/x-python",
   "name": "python",
   "nbconvert_exporter": "python",
   "pygments_lexer": "ipython3",
   "version": "3.9.12"
  }
 },
 "nbformat": 4,
 "nbformat_minor": 2
}
